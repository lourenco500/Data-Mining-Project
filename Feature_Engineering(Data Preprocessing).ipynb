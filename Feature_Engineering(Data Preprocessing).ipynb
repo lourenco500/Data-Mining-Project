{
 "cells": [
  {
   "cell_type": "markdown",
   "id": "eae69494",
   "metadata": {},
   "source": [
    "# Data Mining Project - Group XX 2025/2026"
   ]
  },
  {
   "cell_type": "markdown",
   "id": "22eaced1",
   "metadata": {},
   "source": [
    "# Import Libraries"
   ]
  },
  {
   "cell_type": "code",
   "execution_count": null,
   "id": "f8f7bf90",
   "metadata": {},
   "outputs": [],
   "source": [
    "import sqlite3\n",
    "import os\n",
    "import pandas as pd\n",
    "import numpy as np\n",
    "import matplotlib.pyplot as plt\n",
    "import seaborn as sns\n",
    "from math import ceil\n",
    "\n",
    "from itertools import product\n",
    "from ydata_profiling import ProfileReport\n",
    "\n",
    "# for better resolution plots\n",
    "%config InlineBackend.figure_format = 'retina'\n",
    "\n",
    "#o svg consegue ampliar infinitamente os gráficos sem perder qualidade mas às vezes é mais lento \n",
    "#por isso agora usamos retina\n",
    "\n",
    "\n",
    "sns.set()"
   ]
  },
  {
   "cell_type": "markdown",
   "id": "f852eae3",
   "metadata": {},
   "source": [
    "# Loading the Data"
   ]
  },
  {
   "cell_type": "markdown",
   "id": "525bfe82",
   "metadata": {},
   "source": [
    "Import the datasets from csv files using commas as separators of the columns and setting the unique customer identifier as the index of both columns."
   ]
  },
  {
   "cell_type": "code",
   "execution_count": null,
   "id": "1cb7a338",
   "metadata": {},
   "outputs": [],
   "source": [
    "flightsDB = pd.read_csv('DM_AIAI_FlightsDB.csv', sep = \",\", index_col= \"Loyalty#\")\n",
    "customerDB = pd.read_csv('DM_AIAI_CustomerDB.csv', sep = \",\", index_col= \"Loyalty#\")\n",
    "metaData = pd.read_csv('DM_AIAI_Metadata.csv', sep = \";\", header= None)"
   ]
  },
  {
   "cell_type": "markdown",
   "id": "bd239d2e",
   "metadata": {},
   "source": [
    "Remove the 'Unnamed' column referring to a sequential numbering of the rows, as we set the column \"Loyalty#\" as the index"
   ]
  },
  {
   "cell_type": "code",
   "execution_count": null,
   "id": "ea9659b7",
   "metadata": {},
   "outputs": [],
   "source": [
    "customerDB = customerDB.iloc[:, 1:]\n",
    "customerDB"
   ]
  },
  {
   "cell_type": "markdown",
   "id": "aa33671b",
   "metadata": {},
   "source": [
    "# Metadata"
   ]
  },
  {
   "cell_type": "markdown",
   "id": "da6b6ad8",
   "metadata": {},
   "source": [
    "**FlightsDB Database Variable Description**\n",
    "- **Loyalty#:**\tUnique customer identifier linking to CustomerDB\n",
    "- **Year:**\tYear of flight activity record\n",
    "- **Month:**\tMonth of flight activity record (1-12)\n",
    "- **YearMonthDate:**\tFirst day of the month for the activity period\n",
    "- **NumFlights:**\tTotal number of flights taken by customer in the month\n",
    "- **NumFlightsWithCompanions:**\tNumber of flights where customer traveled with companions\n",
    "- **DistanceKM:**\tTotal distance traveled in kilometers for the month\n",
    "- **PointsAccumulated:**\tLoyalty points earned by customer during the month\n",
    "- **PointsRedeemed:**\tLoyalty points spent/redeemed by customer during the month\n",
    "- **DollarCostPointsRedeemed:**\tDollar value of points redeemed during the month\n",
    "\n",
    "**CustomerDB Database Variable Description**\n",
    "- **Loyalty#:**  Unique customer identifier for loyalty program members\n",
    "- **First Name:**   Customer's first name\n",
    "- **Last Name:**   Customer's last name \n",
    "- **Customer Name:** Customer's full name (concatenated)\n",
    "- **Country:**\tCustomer's country of residence\n",
    "- **Province or State:**\tCustomer's province or state\n",
    "- **City:**\tCustomer's city of residence\n",
    "- **Latitude:**\tGeographic latitude coordinate of customer location\n",
    "- **Longitude:**\tGeographic longitude coordinate of customer locatio\n",
    "- **Postal code:**\tCustomer's postal/ZIP code\n",
    "- **Gender:**\tCustomer's gender\n",
    "- **Education:**\tCustomer's highest education level (Bachelor, College, etc.)\n",
    "- **Location:** Code\tUrban/Suburban/Rural classification of customer residence\n",
    "- **Income:**\tCustomer's annual income\n",
    "- **Marital Status:**\tCustomer's marital status (Married, Single, Divorced)\n",
    "- **LoyaltyStatus:**\tCurrent tier status in loyalty program (Star > Nova > Aurora)\n",
    "- **EnrollmentDateOpening:**\tDate when customer joined the loyalty program\n",
    "- **CancellationDate:**\tDate when customer left the program\n",
    "- **Customer Lifetime:** Value\tTotal calculated monetary value of customer relationship\n",
    "- **EnrollmentType:**\tMethod of joining loyalty program"
   ]
  },
  {
   "cell_type": "markdown",
   "id": "0876fc86",
   "metadata": {},
   "source": [
    "# Data Preparation"
   ]
  },
  {
   "cell_type": "markdown",
   "id": "7dd8d03b",
   "metadata": {},
   "source": [
    "## Feature Engineering (FlightsDB)"
   ]
  },
  {
   "cell_type": "code",
   "execution_count": null,
   "id": "e2d059aa",
   "metadata": {},
   "outputs": [],
   "source": [
    "# AvgDistancePerFlight = DistanceKM / NumFlights\n",
    "flightsDB['AvgDistancePerFlight'] = flightsDB['DistanceKM'] / flightsDB['NumFlights']\n",
    "\n",
    "#PropFlightsWithCompanions = NumFlightsWithCompanions / NumFlights\n",
    "flightsDB['PropFlightsWithCompanions'] = flightsDB['NumFlightsWithCompanions'] / flightsDB['NumFlights']\n",
    "\n",
    "#NetPoints = PointsAccumulated - PointsRedeemed\n",
    "flightsDB['NetPoints'] = flightsDB['PointsAccumulated'] - flightsDB['PointsRedeemed']\n",
    "\n",
    "#DollarPerPoint = DollarCostPointsRedeemed / PointsRedeemed \n",
    "flightsDB['DollarPerPoint'] = flightsDB['DollarCostPointsRedeemed'] / flightsDB['PointsRedeemed']"
   ]
  },
  {
   "cell_type": "code",
   "execution_count": null,
   "id": "f4a85c43",
   "metadata": {},
   "outputs": [],
   "source": [
    "flightsDB.head()"
   ]
  },
  {
   "cell_type": "markdown",
   "id": "c335c589",
   "metadata": {},
   "source": [
    "!!!!!!!!    SE JÁ FOR PARA CRIAR FEATURES USANDO VALORES DE MÉDIA, MEDIANA,.....           !!!!!!!!!!!!"
   ]
  },
  {
   "cell_type": "code",
   "execution_count": null,
   "id": "9ce14bab",
   "metadata": {},
   "outputs": [],
   "source": [
    "# Transformar YearMonthDate em datetime\n",
    "flights['YearMonthDate'] = pd.to_datetime(flights['YearMonthDate'])\n",
    "flights['Month'] = flights['YearMonthDate'].dt.month\n",
    "flights['Year'] = flights['YearMonthDate'].dt.year\n",
    "\n",
    "# Exemplo de agregações mensais/anuais por cliente\n",
    "agg_flights = flights.groupby('Loyalty#').agg({\n",
    "    'NumFlights': 'sum',\n",
    "    'NumFlightsWithCompanions': 'sum',\n",
    "    'DistanceKM': 'sum',\n",
    "    'PointsAccumulated': 'sum',\n",
    "    'PointsRedeemed': 'sum',\n",
    "    'DollarCostPointsRedeemed': 'sum',\n",
    "    'AvgDistancePerFlight': 'mean',\n",
    "    'PropFlightsWithCompanions': 'mean',\n",
    "    'NetPoints': 'sum',\n",
    "    'DollarPerPoint': 'mean'\n",
    "}).reset_index()"
   ]
  },
  {
   "cell_type": "markdown",
   "id": "de722e5a",
   "metadata": {},
   "source": [
    "## Feature Engineering (customerDB)"
   ]
  },
  {
   "cell_type": "code",
   "execution_count": null,
   "id": "c87d9dfa",
   "metadata": {},
   "outputs": [],
   "source": [
    "# transform EnrollmentDateOpening in datetime and calculate CustomerLifetimeMonths\n",
    "customerDB['EnrollmentDateOpening'] = pd.to_datetime(customerDB['EnrollmentDateOpening'])\n",
    "customerDB['CustomerLifetimeMonths'] = ((pd.Timestamp.today() - customerDB['EnrollmentDateOpening']).dt.days) / 30\n",
    "\n",
    "# Codifyar LoyaltyStatus como ordinal\n",
    "status_map = {'Aurora': 0, 'Nova': 1, 'Star': 2}\n",
    "customerDB['LoyaltyStatusCode'] = customerDB['LoyaltyStatus'].map(status_map)\n",
    "\n",
    "# Categorize Income as a categorical variable\n",
    "income_bins = [0, 40000, 80000, 150000, float('inf')]\n",
    "income_labels = ['Low', 'Medium', 'High', 'Very High']\n",
    "customerDB['IncomeCategory'] = pd.cut(customerDB['Income'], bins=income_bins, labels=income_labels)\n"
   ]
  },
  {
   "cell_type": "code",
   "execution_count": null,
   "id": "0c9efce9",
   "metadata": {},
   "outputs": [],
   "source": [
    "customerDB.head()"
   ]
  },
  {
   "cell_type": "markdown",
   "id": "de51e513",
   "metadata": {},
   "source": [
    "## Merge Datasets"
   ]
  },
  {
   "cell_type": "code",
   "execution_count": null,
   "id": "509ef196",
   "metadata": {
    "vscode": {
     "languageId": "plaintext"
    }
   },
   "outputs": [],
   "source": [
    "df_final = pd.merge(flightsDB, customerDB, on='Loyalty#', how='inner')\n",
    "df_final.head()"
   ]
  },
  {
   "cell_type": "markdown",
   "id": "b782f9a3",
   "metadata": {},
   "source": [
    "## Feature Engineering combined with both datasets"
   ]
  },
  {
   "cell_type": "code",
   "execution_count": null,
   "id": "0ffc626e",
   "metadata": {},
   "outputs": [],
   "source": [
    "df_final['FlightsPerIncome'] = df_final['NumFlights'] / df_final['Income']\n",
    "df_final['NetPointsPerIncome'] = df_final['NetPoints'] / df_final['Income']\n",
    "df_final['DistancePerLifetime'] = df_final['DistanceKM'] / df_final['CustomerLifetimeMonths']"
   ]
  },
  {
   "cell_type": "code",
   "execution_count": null,
   "id": "6ac4fd5c",
   "metadata": {},
   "outputs": [],
   "source": [
    "df_final.head()"
   ]
  }
 ],
 "metadata": {
  "language_info": {
   "name": "python"
  }
 },
 "nbformat": 4,
 "nbformat_minor": 5
}
