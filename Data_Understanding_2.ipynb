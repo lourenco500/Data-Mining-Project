{
 "cells": [
  {
   "cell_type": "markdown",
   "id": "7275ba87",
   "metadata": {},
   "source": [
    "# Data Mining Project - Group XX 2025/2026"
   ]
  },
  {
   "cell_type": "markdown",
   "id": "dfdce65d",
   "metadata": {},
   "source": [
    "# Import Libraries"
   ]
  },
  {
   "cell_type": "code",
   "execution_count": null,
   "id": "e2530dc8",
   "metadata": {},
   "outputs": [],
   "source": [
    "import sqlite3\n",
    "import os\n",
    "import pandas as pd\n",
    "import numpy as np\n",
    "import matplotlib.pyplot as plt\n",
    "import seaborn as sns\n",
    "from math import ceil\n",
    "\n",
    "from itertools import product\n",
    "from ydata_profiling import ProfileReport\n",
    "\n",
    "# for better resolution plots\n",
    "%config InlineBackend.figure_format = 'retina'\n",
    "\n",
    "#o svg consegue ampliar infinitamente os gráficos sem perder qualidade mas às vezes é mais lento \n",
    "#por isso agora usamos retina\n",
    "\n",
    "\n",
    "sns.set()"
   ]
  },
  {
   "cell_type": "markdown",
   "id": "43608032",
   "metadata": {},
   "source": [
    "# Loading the Data"
   ]
  },
  {
   "cell_type": "markdown",
   "id": "681cabd2",
   "metadata": {},
   "source": [
    "Import the datasets from csv files using commas as separators of the columns and setting the unique customer identifier as the index of both columns."
   ]
  },
  {
   "cell_type": "code",
   "execution_count": null,
   "id": "e2d2e1cb",
   "metadata": {},
   "outputs": [],
   "source": [
    "flightsDB = pd.read_csv('DM_AIAI_FlightsDB.csv', sep = \",\", index_col= \"Loyalty#\")\n",
    "customerDB = pd.read_csv('DM_AIAI_CustomerDB.csv', sep = \",\", index_col= \"Loyalty#\")\n",
    "metaData = pd.read_csv('DM_AIAI_Metadata.csv', sep = \";\", header= None)"
   ]
  },
  {
   "cell_type": "markdown",
   "id": "e6bde660",
   "metadata": {},
   "source": [
    "Remove the 'Unnamed' column referring to a sequential numbering of the rows, as we set the column \"Loyalty#\" as the index"
   ]
  },
  {
   "cell_type": "code",
   "execution_count": null,
   "id": "8412b655",
   "metadata": {},
   "outputs": [],
   "source": [
    "customerDB = customerDB.iloc[:, 1:]\n",
    "customerDB"
   ]
  },
  {
   "cell_type": "markdown",
   "id": "9a1d129e",
   "metadata": {},
   "source": [
    "# Metadata"
   ]
  },
  {
   "cell_type": "markdown",
   "id": "d5a248ff",
   "metadata": {},
   "source": [
    "**FlightsDB Database Variable Description**\n",
    "- **Loyalty#:**\tUnique customer identifier linking to CustomerDB\n",
    "- **Year:**\tYear of flight activity record\n",
    "- **Month:**\tMonth of flight activity record (1-12)\n",
    "- **YearMonthDate:**\tFirst day of the month for the activity period\n",
    "- **NumFlights:**\tTotal number of flights taken by customer in the month\n",
    "- **NumFlightsWithCompanions:**\tNumber of flights where customer traveled with companions\n",
    "- **DistanceKM:**\tTotal distance traveled in kilometers for the month\n",
    "- **PointsAccumulated:**\tLoyalty points earned by customer during the month\n",
    "- **PointsRedeemed:**\tLoyalty points spent/redeemed by customer during the month\n",
    "- **DollarCostPointsRedeemed:**\tDollar value of points redeemed during the month\n",
    "\n",
    "**CustomerDB Database Variable Description**\n",
    "- **Loyalty#:**  Unique customer identifier for loyalty program members\n",
    "- **First Name:**   Customer's first name\n",
    "- **Last Name:**   Customer's last name \n",
    "- **Customer Name:** Customer's full name (concatenated)\n",
    "- **Country:**\tCustomer's country of residence\n",
    "- **Province or State:**\tCustomer's province or state\n",
    "- **City:**\tCustomer's city of residence\n",
    "- **Latitude:**\tGeographic latitude coordinate of customer location\n",
    "- **Longitude:**\tGeographic longitude coordinate of customer locatio\n",
    "- **Postal code:**\tCustomer's postal/ZIP code\n",
    "- **Gender:**\tCustomer's gender\n",
    "- **Education:**\tCustomer's highest education level (Bachelor, College, etc.)\n",
    "- **Location:** Code\tUrban/Suburban/Rural classification of customer residence\n",
    "- **Income:**\tCustomer's annual income\n",
    "- **Marital Status:**\tCustomer's marital status (Married, Single, Divorced)\n",
    "- **LoyaltyStatus:**\tCurrent tier status in loyalty program (Star > Nova > Aurora)\n",
    "- **EnrollmentDateOpening:**\tDate when customer joined the loyalty program\n",
    "- **CancellationDate:**\tDate when customer left the program\n",
    "- **Customer Lifetime:** Value\tTotal calculated monetary value of customer relationship\n",
    "- **EnrollmentType:**\tMethod of joining loyalty program"
   ]
  },
  {
   "cell_type": "markdown",
   "id": "34ed22ac",
   "metadata": {},
   "source": [
    "## Descriptive Statistics and Visualisations (FlightsDB)"
   ]
  },
  {
   "cell_type": "markdown",
   "id": "31e0f59a",
   "metadata": {},
   "source": [
    "This section starts by split our data in metric and non-metric features"
   ]
  },
  {
   "cell_type": "code",
   "execution_count": null,
   "id": "79724377",
   "metadata": {},
   "outputs": [],
   "source": [
    "non_metric_features_FDB = [\"YearMonthDate\"]\n",
    "metric_features_FDB = flightsDB.columns.drop(non_metric_features_FDB).to_list()\n",
    "\n",
    "print(\"Metric Features:\")\n",
    "for i, feature in enumerate(metric_features_FDB, 1):\n",
    "    print(f\" {i}. {feature}\")\n",
    "\n",
    "print(\"\\nNon-Metric Features:\")\n",
    "for i, feature in enumerate(non_metric_features_FDB, 1):\n",
    "    print(f\" {i}. {feature}\")"
   ]
  },
  {
   "cell_type": "markdown",
   "id": "be2990a1",
   "metadata": {},
   "source": [
    "Now we do the histograms for each metric feature."
   ]
  },
  {
   "cell_type": "code",
   "execution_count": null,
   "id": "88b97081",
   "metadata": {},
   "outputs": [],
   "source": [
    "# Set number of rows and columns\n",
    "sp_rows_FDB = 2\n",
    "sp_cols_FDB = ceil(len(metric_features_FDB) / sp_rows_FDB) # adapt the number of columns to the number of features\n",
    "\n",
    "# Set minimal style\n",
    "plt.style.use(\"seaborn-v0_8\")\n",
    "\n",
    "# Create a canvas for the metric features\n",
    "fig, axes = plt.subplots(sp_rows_FDB, \n",
    "                         sp_cols_FDB, \n",
    "                         figsize=(20, 11),\n",
    "                         constrained_layout=True) # Adjust automatically spacing between subplot and labels \n",
    "\n",
    "# Increase vertical space between rows\n",
    "fig.set_constrained_layout_pads(h_pad=.2)\n",
    "\n",
    "# Plot data\n",
    "# Iterate across axes objects and associate each histogram\n",
    "for ax, feat in zip(axes.flatten(), metric_features_FDB):\n",
    "    # Set bins, change inside and edge color of the graphs for better contrast\n",
    "    ax.hist(flightsDB[feat], bins=12, color=\"#0062FF\", edgecolor=\"black\") # 12 bins to accomodate the feature 'month' and because no interpretability in the other graphs is lost\n",
    "    \n",
    "    # Put title of each graph with bigger font\n",
    "    ax.set_title(feat, fontsize=16)\n",
    "\n",
    "    # Put grid with low opacity and dashed line so it's visible, but not distracting\n",
    "    ax.grid(True, linestyle=\"--\", alpha=0.4)\n",
    "\n",
    "# Layout\n",
    "# Add title, make it bigger and bold and add space between title and first row of plots\n",
    "plt.suptitle(\"Metric Variables' Histograms\", \n",
    "             fontsize = 25, fontweight=\"bold\", y=1.05)\n",
    "\n",
    "\n",
    "# Create the folder '../figures/eda' if it doesn't already exist\n",
    "os.makedirs(os.path.join('..', 'figures', 'eda'), exist_ok=True)\n",
    "    \n",
    "# Save figure to a png file in the folder created before\n",
    "plt.savefig(os.path.join('..', 'figures', 'eda', 'numeric_variables_histograms.png'), dpi=200)\n",
    "\n",
    "# Show plot\n",
    "plt.show()"
   ]
  },
  {
   "cell_type": "markdown",
   "id": "5735064d",
   "metadata": {},
   "source": [
    "From the histograms above we can see that:\n",
    "\n",
    "- `Year:` The data is distributed only between 2019 and 2021, indicating that the set covers three years of operations. The number of records is similar between years, suggesting consistency in data collection over time.\n",
    "- `Month:` he frequency of the first few months and the last ones is higher than the middle months. Also, the middle months have all the same frequency, this is the distribution is almost uniform across this months;\n",
    "- `Number of Flights and Flights with Companions:` Most customers make few trips (1 to 3 flights). Few customers travel frequently—they are the outliers;\n",
    "- `Distance KM:` Most flights are short-haul. There are some long-haul flights that can represent the outliers;\n",
    "- `Points Accumulated:` Only a few customers accumulate many points;\n",
    "- `Points Redeemed:` Many customers do not redeem points or redeem very few;\n",
    "- `Dollar Cost Points Redeemed:` The financial use of points is uncommon, this means only a few customers redeem points by converting them into cash. When they do, the amounts vary widely."
   ]
  },
  {
   "cell_type": "markdown",
   "id": "6f860839",
   "metadata": {},
   "source": [
    "Now we do the boxplot for each metric feature."
   ]
  },
  {
   "cell_type": "code",
   "execution_count": null,
   "id": "921bab6e",
   "metadata": {},
   "outputs": [],
   "source": [
    "# Prepare figure. Create individual axes where each histogram will be placed\n",
    "fig, axes = plt.subplots(sp_rows_FDB, \n",
    "                         sp_cols_FDB, \n",
    "                         figsize=(20, 10),\n",
    "                         constrained_layout=True) # Adjust automatically spacing between subplot and labels \n",
    "\n",
    "# Increase vertical space between rows\n",
    "fig.set_constrained_layout_pads(h_pad=.2)\n",
    "\n",
    "# Plot data\n",
    "# Iterate across axes objects and associate each box plot:\n",
    "for ax, feat in zip(axes.flatten(), metric_features_FDB): \n",
    "    sns.boxplot(x=flightsDB[feat], ax=ax,\n",
    "                # Set inside color to blue\n",
    "                color=\"#0062FF\",\n",
    "                # Set line colors to black\n",
    "                boxprops=dict(edgecolor=\"black\"),\n",
    "                whiskerprops=dict(color=\"black\"),\n",
    "                capprops=dict(color=\"black\"),\n",
    "                medianprops=dict(color=\"black\"),\n",
    "                flierprops=dict(markeredgecolor=\"black\"))\n",
    "    \n",
    "    # Put grid with low opacity and dashed line so it's visible, but not distracting\n",
    "    ax.grid(True, linestyle=\"--\", alpha=0.4)\n",
    "\n",
    "    # Put title of each graph with bigger font\n",
    "    ax.set_title(feat, fontsize=18)\n",
    "\n",
    "    # Hide x label since we already have the boxlplot title at the top\n",
    "    ax.set_xlabel(\"\")\n",
    "    \n",
    "# Layout\n",
    "# Add title and make it bigger\n",
    "plt.suptitle(\"Metric Variables' Box Plots\", \n",
    "             fontsize = 25, fontweight=\"bold\")\n",
    "\n",
    "# Create the folder '../figures/eda' if it doesn't already exist\n",
    "os.makedirs(os.path.join('..', 'figures', 'eda'), exist_ok=True)\n",
    "\n",
    "# Save figure to a png file in the folder created before\n",
    "plt.savefig(os.path.join('..', 'figures', 'eda', 'numeric_variables_boxplots.png'), dpi=200)\n",
    "\n",
    "# Show plot\n",
    "plt.show()"
   ]
  },
  {
   "cell_type": "markdown",
   "id": "d4f08da2",
   "metadata": {},
   "source": [
    "From the boxplots above we can conclude that:\n",
    "\n",
    "- `Year:` The values are evenly distributed between 2019 and 2021, with no outliers;\n",
    "- `Month:` The distribution is almost uniform, with slight asymmetry (probably more records in the first and last few months).\n",
    "- `Number of Flights:` Low median and strong skew to the right (positive asymmetry). Many outliers above ~15 flights — few customers travel frequently;\n",
    "- `Number of Flights with Companions:` Median close to 0 and some outliers that represent the clients that travel in big groups;\n",
    "- `Distance KM:` large number of short flights and a few very long ones that greatly influence the average;\n",
    "- `Points Accumulated:` Very low median and a lot of outliers. This means that only a few customers accumulate large volumes of points;\n",
    "-`Points Redeemed:` The same as before, a very big majority of values are low with a big number of outliers;\n",
    "- `Dollar Cost Points Redeemed:` A very similar distribution to 'Points Redeemed' as expected, with the majority of values being close to 0 and many outliers."
   ]
  },
  {
   "cell_type": "markdown",
   "id": "2c0d7863",
   "metadata": {},
   "source": [
    "## Descriptive Statistics and Visualisations (CustomerDB)"
   ]
  },
  {
   "cell_type": "markdown",
   "id": "4075c1b4",
   "metadata": {},
   "source": [
    "Create 2 lists to differentiate from metric and non-metric features."
   ]
  },
  {
   "cell_type": "code",
   "execution_count": null,
   "id": "4e3b585b",
   "metadata": {},
   "outputs": [],
   "source": [
    "metric_features_CDB = customerDB.select_dtypes(include=['number']).columns.tolist()\n",
    "non_metric_features_CDB = customerDB.columns.drop(metric_features_CDB).to_list()\n",
    "\n",
    "print(\"Metric Features:\")\n",
    "for i, feature in enumerate(metric_features_CDB, 1):\n",
    "    print(f\" {i}. {feature}\")\n",
    "\n",
    "print(\"\\nNon-Metric Features:\")\n",
    "for i, feature in enumerate(non_metric_features_CDB, 1):\n",
    "    print(f\" {i}. {feature}\")"
   ]
  },
  {
   "cell_type": "markdown",
   "id": "c9be6309",
   "metadata": {},
   "source": [
    "Create histograms for a general analysis of the features"
   ]
  },
  {
   "cell_type": "code",
   "execution_count": null,
   "id": "5f50dea5",
   "metadata": {},
   "outputs": [],
   "source": [
    "# Set number of rows and columns\n",
    "sp_rows_CDB = 2\n",
    "sp_cols_CDB = ceil(len(metric_features_CDB) / sp_rows_CDB) # adapt the number of columns to the number of features\n",
    "\n",
    "# Set minimal style\n",
    "plt.style.use(\"seaborn-v0_8\")\n",
    "\n",
    "# Create a canvas for the metric features\n",
    "fig, axes = plt.subplots(sp_rows, \n",
    "                         sp_cols, \n",
    "                         figsize=(20, 10),\n",
    "                         constrained_layout=True) # Adjust automatically spacing between subplot and labels \n",
    "\n",
    "# Increase vertical space between rows\n",
    "fig.set_constrained_layout_pads(h_pad=.2)\n",
    "\n",
    "# Plot the data\n",
    "# Iterate across axes objects and associate each histogram:\n",
    "for ax, feat in zip(axes.flatten(), metric_features_CDB):\n",
    "    # Set 10 bins, change inside and edge color of the graphs for better contrast\n",
    "    ax.hist(customerDB[feat], bins=10, color=\"#0062FF\", edgecolor=\"black\")\n",
    "    \n",
    "    # Put title of each graph with bigger font\n",
    "    ax.set_title(feat, fontsize=16)\n",
    "    \n",
    "    # Put grid with low oppacity and dashed line so it's visible, but not distracting\n",
    "    ax.grid(True, linestyle=\"--\", alpha=0.4)\n",
    "    \n",
    "# Layout\n",
    "# Add title, make it bigger and bold and add space between title and first row of plots\n",
    "plt.suptitle(\"Metric Variables' Histograms\", \n",
    "             fontsize = 25, fontweight=\"bold\", y=1.05)\n",
    "\n",
    "# Create the folder '../figures/eda' if it doesn't already exist\n",
    "os.makedirs(os.path.join('..', 'figures', 'eda'), exist_ok=True)\n",
    "    \n",
    "# Save figure to a png file in the folder created before\n",
    "plt.savefig(os.path.join('..', 'figures', 'eda', 'numeric_variables_histograms.png'), dpi=200)\n",
    "\n",
    "# Show plot\n",
    "plt.show()"
   ]
  },
  {
   "cell_type": "markdown",
   "id": "ec7950ca",
   "metadata": {},
   "source": [
    "Create boxplots"
   ]
  },
  {
   "cell_type": "code",
   "execution_count": null,
   "id": "426663a3",
   "metadata": {},
   "outputs": [],
   "source": [
    "# Create canvas with the same structure as before\n",
    "fig, axes = plt.subplots(sp_rows_CDB, \n",
    "                         sp_cols_CDB, \n",
    "                         figsize=(20, 10),\n",
    "                         constrained_layout=True) # Adjust automatically spacing between subplot and labels \n",
    "\n",
    "# Increase vertical space between rows\n",
    "fig.set_constrained_layout_pads(h_pad=.2)\n",
    "\n",
    "# Plot data\n",
    "# Iterate across axes objects and associate each box plot:\n",
    "for ax, feat in zip(axes.flatten(), metric_features_CDB):\n",
    "    # We need to reset the index to avoid errors since we haven't dealt with duplicate values yet\n",
    "    sns.boxplot(x=customerDB[feat].reset_index(drop= True), ax=ax, \n",
    "                # Set inside color to blue\n",
    "                color=\"#0062FF\",\n",
    "                # Set line colors to black\n",
    "                boxprops=dict(edgecolor=\"black\"),\n",
    "                whiskerprops=dict(color=\"black\"),\n",
    "                capprops=dict(color=\"black\"),\n",
    "                medianprops=dict(color=\"black\"),\n",
    "                flierprops=dict(markeredgecolor=\"black\")) \n",
    "    \n",
    "    # Put grid with low opacity and dashed line so it's visible, but not distracting\n",
    "    ax.grid(True, linestyle=\"--\", alpha=0.4)\n",
    "\n",
    "    # Put title of each graph with bigger font\n",
    "    ax.set_title(feat, fontsize=18)\n",
    "\n",
    "    # Hide x label since we already have the boxlplot title at the top\n",
    "    ax.set_xlabel(\"\") \n",
    "\n",
    "# Layout\n",
    "# Add a centered title to the figure and plot it\n",
    "plt.suptitle(\"Metric Variables' Box Plots\", \n",
    "             fontsize = 25, fontweight=\"bold\")\n",
    "\n",
    "# Create the folder '../figures/eda' if it doesn't already exist\n",
    "os.makedirs(os.path.join('..', 'figures', 'eda'), exist_ok=True)\n",
    "\n",
    "# Save figure to a png file in the folder created before\n",
    "plt.savefig(os.path.join('..', 'figures', 'eda', 'numeric_variables_histograms.png'), dpi=200)\n",
    "\n",
    "# Show plot\n",
    "plt.show()"
   ]
  },
  {
   "cell_type": "markdown",
   "id": "f99dfa54",
   "metadata": {},
   "source": [
    "From the boxplots above we can conclude that:\n",
    "\n",
    "- `Latitude:` The values range between ~43-56.5°, with most values on the higher latitudes and one outlier more up north.\n",
    "- `Longitude:` Values between -140° and -55° with a lot of values on lower longitudes, no outliers.\n",
    "- The combination of these two features tells us AIA's customers are from North America, more specifically from Canada and the northern states of the USA.\n",
    "- `Income:` There is a wide range of salaries, a quarter of the customers have income close to zero and another quarter has low-mid income, which pulls the median down and provokes right skewness. No outliers.\n",
    "- `Customer Lifetime Value:` It's always at least ~1000$ and has a median of around 6000$. Has a very right skewed distribution with lots of outliers that represent the customers that are very profitable and thus important for the company."
   ]
  },
  {
   "cell_type": "markdown",
   "id": "eea3c207",
   "metadata": {},
   "source": [
    "Since Latitude and Longitude go together, we can plot them in a Scatter plot to see if there are any clusters of coordinates that could represent cities where our customers are concentrated. "
   ]
  },
  {
   "cell_type": "code",
   "execution_count": null,
   "id": "d6126cef",
   "metadata": {},
   "outputs": [],
   "source": [
    "plt.scatter(customerDB[\"Longitude\"], customerDB[\"Latitude\"], s=5, alpha=0.5)"
   ]
  },
  {
   "cell_type": "markdown",
   "id": "623d6ec1",
   "metadata": {},
   "source": [
    "The graph is very underwhelming. We were expecting lots of data, but looks like there are very few Latitude-Longitude points, which doesn't allow us to make much conclusions."
   ]
  },
  {
   "cell_type": "code",
   "execution_count": null,
   "id": "69ccceb8",
   "metadata": {},
   "outputs": [],
   "source": [
    "lat_count = customerDB[\"Latitude\"].count()\n",
    "long_count = customerDB[\"Longitude\"].count()\n",
    "\n",
    "print(f\"Latitude has {lat_count} values.\")\n",
    "print(f\"Longitude has {long_count} values.\")"
   ]
  },
  {
   "cell_type": "code",
   "execution_count": null,
   "id": "509fbf6b",
   "metadata": {},
   "outputs": [],
   "source": [
    "lat_duplicated = customerDB[\"Latitude\"].duplicated().sum()\n",
    "long_duplicated = customerDB[\"Longitude\"].duplicated().sum()\n",
    "\n",
    "print(f\"The Latitude column has {lat_duplicated} duplicated values, which represents {(lat_duplicated/lat_count*100).round(2)}% of the total data.\")\n",
    "print(f\"The Longitude column has {long_duplicated} duplicated values, which represents {(long_duplicated/long_count*100).round(2)}% of the total data.\")"
   ]
  },
  {
   "cell_type": "markdown",
   "id": "b07054a9",
   "metadata": {},
   "source": [
    "This explains why we had so few points in the scatter plot. Let's see what exactly are the values."
   ]
  },
  {
   "cell_type": "code",
   "execution_count": null,
   "id": "a97fccb9",
   "metadata": {},
   "outputs": [],
   "source": [
    "customerDB[[\"Latitude\",\"Longitude\"]].value_counts()"
   ]
  },
  {
   "cell_type": "markdown",
   "id": "f2184676",
   "metadata": {},
   "source": [
    "By searching what these coordinates represent on Google Maps, we conclude they identify the city the customer is from and not their exact location, probably for privacy reasons.\n",
    "For example, the first 3 coordinates represent Toronto, Vancouver and Montreal, which are all Canadian cities.\n",
    "\n",
    "Since we already have a column that represents the name of the city the customer is from, we conclude the **columns for Latitude and Longitude are redundant**."
   ]
  }
 ],
 "metadata": {
  "language_info": {
   "name": "python"
  }
 },
 "nbformat": 4,
 "nbformat_minor": 5
}
